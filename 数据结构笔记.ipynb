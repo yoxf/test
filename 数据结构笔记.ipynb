{
 "cells": [
  {
   "cell_type": "markdown",
   "metadata": {},
   "source": [
    "# 数据结构笔记\n",
    "ref =https://www.cnblogs.com/king-ding/p/pythonchaintable.html"
   ]
  },
  {
   "cell_type": "markdown",
   "metadata": {},
   "source": [
    "+ 链表\n",
    "\n",
    "存储一大波数据时，我们很多时候是使用数组，但是当我们执行插入操作的时候就是非常麻烦，看下面的例子，有一堆数据1,2,3,5,6,7我们要在3和5之间插入4,如果用数组，我们会怎么做？当然是将5之后的数据往后退一位，然后再插入4,这样非常麻烦，但是如果用链表，我就直接在3和5之间插入4就行"
   ]
  },
  {
   "cell_type": "code",
   "execution_count": 5,
   "metadata": {},
   "outputs": [],
   "source": [
    "# -*- coding:utf8 -*-\n",
    "#/usr/bin/env python\n",
    "\n",
    "# 定义节点类\n",
    "class Node(object):\n",
    "    def __init__(self, data, pnext = None):\n",
    "        \n",
    "        '''\n",
    "        data: 节点保存的数据\n",
    "        _next: 保存下一个节点对象\n",
    "        '''\n",
    "        self.data = data\n",
    "        self._next = pnext\n",
    "\n",
    "    def __repr__(self):\n",
    "        return str(self.data)\n",
    "# 定义链表类\n",
    "class ChainTable(object):\n",
    "    def __init__(self):\n",
    "        self.head = None\n",
    "        self.length = 0\n",
    "    # 判断是否为空\n",
    "    def isEmpty(self):\n",
    "        return (self.length == 0)\n",
    "    # 增加一个节点(在链表尾添加): append()\n",
    "    def append(self, dataOrNode):\n",
    "        item = None\n",
    "        if isinstance(dataOrNode, Node):\n",
    "            item = dataOrNode\n",
    "        else:\n",
    "            item = Node(dataOrNode)\n",
    "\n",
    "        if not self.head:\n",
    "            self.head = item\n",
    "            self.length += 1\n",
    "\n",
    "        else:\n",
    "            node = self.head\n",
    "            while node._next:\n",
    "                node = node._next\n",
    "            node._next = item\n",
    "            self.length += 1\n",
    "    # 删除一个节点\n",
    "    def delete(self, index):\n",
    "        if self.isEmpty():\n",
    "            print( \"this chain table is empty.\")\n",
    "            return\n",
    "\n",
    "        if index < 0 or index >= self.length:\n",
    "            print( 'error: out of index')\n",
    "            return\n",
    "\n",
    "        if index == 0:\n",
    "            self.head = self.head._next\n",
    "            self.length -= 1\n",
    "            return\n",
    "\n",
    "        j = 0\n",
    "        node = self.head\n",
    "        prev = self.head\n",
    "        while node._next and j < index:\n",
    "            prev = node\n",
    "            node = node._next\n",
    "            j += 1\n",
    "\n",
    "        if j == index:\n",
    "            prev._next = node._next\n",
    "            self.length -= 1\n",
    "    # 插入一个节点\n",
    "    def insert(self, index, dataOrNode):\n",
    "        if self.isEmpty():\n",
    "            print (\"this chain tabale is empty\")\n",
    "            return\n",
    "\n",
    "        if index < 0 or index >= self.length:\n",
    "            print (\"error: out of index\")\n",
    "            return\n",
    "\n",
    "        item = None\n",
    "        if isinstance(dataOrNode, Node):\n",
    "            item = dataOrNode\n",
    "        else:\n",
    "            item = Node(dataOrNode)\n",
    "\n",
    "        if index == 0:\n",
    "            item._next = self.head\n",
    "            self.head = item\n",
    "            self.length += 1\n",
    "            return\n",
    "\n",
    "        j = 0\n",
    "        node = self.head\n",
    "        prev = self.head\n",
    "        while node._next and j < index:\n",
    "            prev = node\n",
    "            node = node._next\n",
    "            j += 1\n",
    "\n",
    "        if j == index:\n",
    "            item._next = node\n",
    "            prev._next = item\n",
    "            self.length += 1\n",
    "    # 修改一个节点: update()\n",
    "    def update(self, index, data):\n",
    "        if self.isEmpty() or index < 0 or index >= self.length:\n",
    "            print ('error: out of index')\n",
    "            return\n",
    "        j = 0\n",
    "        node = self.head\n",
    "        while node._next and j < index:\n",
    "            node = node._next\n",
    "            j += 1\n",
    "\n",
    "        if j == index:\n",
    "            node.data = data\n",
    "    # 查找一个节点: getItem()\n",
    "    def getItem(self, index):\n",
    "        if self.isEmpty() or index < 0 or index >= self.length:\n",
    "            print (\"error: out of index\")\n",
    "            return\n",
    "        j = 0\n",
    "        node = self.head\n",
    "        while node._next and j < index:\n",
    "            node = node._next\n",
    "            j += 1\n",
    "\n",
    "        return node.data\n",
    "\n",
    "    # 查找一个节点的索引: getIndex()\n",
    "    def getIndex(self, data):\n",
    "        j = 0\n",
    "        if self.isEmpty():\n",
    "            print (\"this chain table is empty\")\n",
    "            return\n",
    "        node = self.head\n",
    "        while node:\n",
    "            if node.data == data:\n",
    "                return j\n",
    "            node = node._next\n",
    "            j += 1\n",
    "\n",
    "        if j == self.length:\n",
    "            print (\"%s not found\" % str(data))\n",
    "            return\n",
    "    # 清空节点\n",
    "    def clear(self):\n",
    "        self.head = None\n",
    "        self.length = 0\n",
    "    \n",
    "    def __repr__(self):\n",
    "        if self.isEmpty():\n",
    "            return \"empty chain table\"\n",
    "        node = self.head\n",
    "        nlist = ''\n",
    "        while node:\n",
    "            nlist += str(node.data) + ' '\n",
    "            node = node._next\n",
    "        return nlist\n",
    "\n",
    "    def __getitem__(self, ind):\n",
    "        if self.isEmpty() or ind < 0 or ind >= self.length:\n",
    "            print (\"error: out of index\")\n",
    "            return\n",
    "        return self.getItem(ind)\n",
    "\n",
    "    def __setitem__(self, ind, val):\n",
    "        if self.isEmpty() or ind < 0 or ind >= self.length:\n",
    "            print (\"error: out of index\")\n",
    "            return\n",
    "        self.update(ind, val)\n",
    "\n",
    "    def __len__(self):\n",
    "        return self.length\n"
   ]
  },
  {
   "cell_type": "markdown",
   "metadata": {},
   "source": [
    "+ 创建链表"
   ]
  },
  {
   "cell_type": "code",
   "execution_count": 19,
   "metadata": {},
   "outputs": [
    {
     "data": {
      "text/plain": [
       "1 2 3 6 5 4 9 3 2 5 1 3 "
      ]
     },
     "execution_count": 19,
     "metadata": {},
     "output_type": "execute_result"
    }
   ],
   "source": [
    "array = [1,2,3,6,5,4,9,3,2,5,1,3]\n",
    "chaintable = ChainTable()\n",
    "for i in array:\n",
    "    chaintable.append(i)\n",
    "chaintable"
   ]
  },
  {
   "cell_type": "markdown",
   "metadata": {},
   "source": [
    "+ 获取节点索引(有疑问 2017-11-14）"
   ]
  },
  {
   "cell_type": "code",
   "execution_count": 20,
   "metadata": {},
   "outputs": [
    {
     "data": {
      "text/plain": [
       "2"
      ]
     },
     "execution_count": 20,
     "metadata": {},
     "output_type": "execute_result"
    }
   ],
   "source": [
    "chaintable.getIndex(3)"
   ]
  },
  {
   "cell_type": "code",
   "execution_count": 25,
   "metadata": {},
   "outputs": [
    {
     "data": {
      "text/plain": [
       "99 99 3 6 5 4 9 3 2 5 99 3 "
      ]
     },
     "execution_count": 25,
     "metadata": {},
     "output_type": "execute_result"
    }
   ],
   "source": [
    "# 此处修改三次 0,1,10\n",
    "chaintable.update(10,99)\n",
    "chaintable"
   ]
  },
  {
   "cell_type": "code",
   "execution_count": 27,
   "metadata": {},
   "outputs": [
    {
     "data": {
      "text/plain": [
       "100 100 99 99 3 6 5 4 9 3 2 5 99 3 "
      ]
     },
     "execution_count": 27,
     "metadata": {},
     "output_type": "execute_result"
    }
   ],
   "source": [
    "# 0 处插入两次100\n",
    "chaintable.insert(0,100)\n",
    "chaintable"
   ]
  },
  {
   "cell_type": "code",
   "execution_count": 29,
   "metadata": {},
   "outputs": [
    {
     "data": {
      "text/plain": [
       "5"
      ]
     },
     "execution_count": 29,
     "metadata": {},
     "output_type": "execute_result"
    }
   ],
   "source": [
    "chaintable.getItem(6)"
   ]
  },
  {
   "cell_type": "code",
   "execution_count": 30,
   "metadata": {},
   "outputs": [
    {
     "data": {
      "text/plain": [
       "4"
      ]
     },
     "execution_count": 30,
     "metadata": {},
     "output_type": "execute_result"
    }
   ],
   "source": [
    "chaintable[7]"
   ]
  },
  {
   "cell_type": "code",
   "execution_count": null,
   "metadata": {
    "collapsed": true
   },
   "outputs": [],
   "source": []
  }
 ],
 "metadata": {
  "kernelspec": {
   "display_name": "Python 3",
   "language": "python",
   "name": "python3"
  },
  "language_info": {
   "codemirror_mode": {
    "name": "ipython",
    "version": 3
   },
   "file_extension": ".py",
   "mimetype": "text/x-python",
   "name": "python",
   "nbconvert_exporter": "python",
   "pygments_lexer": "ipython3",
   "version": "3.6.1"
  }
 },
 "nbformat": 4,
 "nbformat_minor": 2
}
