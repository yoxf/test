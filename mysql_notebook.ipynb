{
 "cells": [
  {
   "cell_type": "markdown",
   "metadata": {},
   "source": [
    "[TOC]\n",
    "# MYSQL 学习笔记\n",
    "## 初级\n",
    "## DML\n",
    "### 1. 连接mysql\n",
    "\n",
    "学习参考1：http://www.codedata.com.tw/tag/mysql/4"
   ]
  },
  {
   "cell_type": "markdown",
   "metadata": {},
   "source": [
    "```shell\n",
    "mysql -h localhost -u 用户名 -p 密码\n",
    "mysql -h localhost -u root -p root\n",
    "```"
   ]
  },
  {
   "cell_type": "markdown",
   "metadata": {},
   "source": [
    "### 2.1 创建数据库"
   ]
  },
  {
   "cell_type": "markdown",
   "metadata": {},
   "source": [
    "```mysql\n",
    "create database 数据库名;\n",
    "create database db1;\n",
    "\n",
    "```"
   ]
  },
  {
   "cell_type": "markdown",
   "metadata": {},
   "source": [
    "### 2.1 查看数据库"
   ]
  },
  {
   "cell_type": "markdown",
   "metadata": {},
   "source": [
    "```mysql\n",
    "show databases;\n",
    "```"
   ]
  },
  {
   "cell_type": "markdown",
   "metadata": {},
   "source": [
    "### 3 选中创建的数据库"
   ]
  },
  {
   "cell_type": "markdown",
   "metadata": {},
   "source": [
    "```mysql\n",
    "use 数据库名\n",
    "use db1\n",
    "```"
   ]
  },
  {
   "cell_type": "markdown",
   "metadata": {},
   "source": [
    "### 4.1创建数据表"
   ]
  },
  {
   "cell_type": "markdown",
   "metadata": {},
   "source": [
    "```mysql\n",
    "create table 数据表名 (\n",
    "    字段1 字段数据类型 字段其他属性，\n",
    "    字段2 字段数据类型 字段其他属性，\n",
    "    ...\n",
    "    字段N 字段数据类型 字段其他属性\n",
    "\n",
    ") 数据库引擎类型，数据表字符设定字段;\n",
    "\n",
    "create table test(\n",
    "    id int(10) not null auto_increment primary key ,\n",
    "    name varchar(50),\n",
    "    age int(10)\n",
    ") engine = 'innodb' charset = 'utf8';\n",
    "```"
   ]
  },
  {
   "cell_type": "markdown",
   "metadata": {},
   "source": [
    "### 4.2 查看数据表"
   ]
  },
  {
   "cell_type": "markdown",
   "metadata": {},
   "source": [
    "```mysql\n",
    "show tables;\n",
    "```"
   ]
  },
  {
   "cell_type": "markdown",
   "metadata": {},
   "source": [
    "### 4.3 查看表结构"
   ]
  },
  {
   "cell_type": "markdown",
   "metadata": {},
   "source": [
    "```mysql\n",
    "describe tablename;\n",
    "describe test;\n",
    "```"
   ]
  },
  {
   "cell_type": "markdown",
   "metadata": {},
   "source": [
    "### 5 insert 操作"
   ]
  },
  {
   "cell_type": "markdown",
   "metadata": {},
   "source": [
    "```mysql\n",
    "insert [into] 表名 [(列名1, 列名2, 列名3, ...)] values (值1, 值2, 值3, ...);\n",
    "insert into test(id,name,age) values(1, \"王刚\", 20);\n",
    "```"
   ]
  },
  {
   "cell_type": "markdown",
   "metadata": {},
   "source": [
    "### 6 update 操作"
   ]
  },
  {
   "cell_type": "markdown",
   "metadata": {},
   "source": [
    "```mysql\n",
    "update 表名称 set 列名称=新值 where 更新条件;\n",
    "update test set name=\"李刚\" where id=1;\n",
    "```"
   ]
  },
  {
   "cell_type": "markdown",
   "metadata": {},
   "source": [
    "### 7 delete 操作"
   ]
  },
  {
   "cell_type": "markdown",
   "metadata": {},
   "source": [
    "```mysql\n",
    "delete from 表名称 where 删除条件;\n",
    "delete from test where id=1;\n",
    "```"
   ]
  },
  {
   "cell_type": "markdown",
   "metadata": {},
   "source": [
    "### 8 select\n",
    "条件表达式\n",
    "where 关系运算符 <, >, =, <=, >=, !=; not,or,and\n",
    "\n",
    "where in 取出枚举数\n",
    "\n",
    "where btween and 取出范围\n",
    "\n"
   ]
  },
  {
   "cell_type": "markdown",
   "metadata": {},
   "source": [
    "```mysql\n",
    "select 列名称 from 表名称 [查询条件];\n",
    "select name,age from test where id = 1;\n",
    "```"
   ]
  },
  {
   "cell_type": "markdown",
   "metadata": {},
   "source": [
    "### 9 理解查询模型\n",
    "\n",
    "查询语句中列名相当于变量，通过where语句核对条件中的值和变量的值对比，为真则取出。\n",
    "\n",
    "列是变量，变量可以计算，因此列名可以做计算\n",
    "\n",
    "取列也叫投影\n",
    "\n",
    "列运算后取出叫广义投影\n",
    "\n"
   ]
  },
  {
   "cell_type": "markdown",
   "metadata": {},
   "source": [
    "```mysql\n",
    "select * from user where 1; \n",
    "```\n",
    "取出表中全部的值"
   ]
  },
  {
   "cell_type": "markdown",
   "metadata": {},
   "source": [
    "### 10 NULL介绍"
   ]
  },
  {
   "cell_type": "markdown",
   "metadata": {},
   "source": [
    "```\n",
    "```"
   ]
  },
  {
   "cell_type": "markdown",
   "metadata": {},
   "source": [
    "### 11 GROUP BY分组与统计函数\n",
    "统计函数：\n",
    "max() 最大值、\n",
    "min() 最小值、\n",
    "count() 计数、\n",
    "avg() 平均值、\n",
    "sum() 求和\n",
    "\n",
    "\n"
   ]
  },
  {
   "cell_type": "markdown",
   "metadata": {},
   "source": [
    "```mysql\n",
    "select 列名称 from 表名称 [查询条件] group by [分组条件];\n",
    "\n",
    "\n",
    "```"
   ]
  },
  {
   "cell_type": "markdown",
   "metadata": {},
   "source": [
    "### 12 having 筛选"
   ]
  },
  {
   "cell_type": "markdown",
   "metadata": {},
   "source": [
    "```mysql\n",
    "select 列名称 from 表名称 [查询条件] group by [分组条件] having [筛选条件];\n",
    "```"
   ]
  },
  {
   "cell_type": "markdown",
   "metadata": {},
   "source": [
    "### 13 ORDER BY 排序"
   ]
  },
  {
   "cell_type": "markdown",
   "metadata": {},
   "source": [
    "```mysql\n",
    "select 列名 from 表名 order by 列名; \n",
    "select name from test order by age;\n",
    "```"
   ]
  },
  {
   "cell_type": "markdown",
   "metadata": {},
   "source": [
    "### 14 LIMIT 用法"
   ]
  },
  {
   "cell_type": "markdown",
   "metadata": {},
   "source": [
    "```mysql\n",
    "select * from 表名 limit 起始行,偏移量\n",
    "select * from test limit 0,2; \n",
    "\n",
    "```"
   ]
  },
  {
   "cell_type": "markdown",
   "metadata": {},
   "source": [
    "### 15 子句查询的陷阱\n",
    "子句查询必须按顺序  where-->group by--> having--> order by--> limit \n",
    "否则出错"
   ]
  },
  {
   "cell_type": "markdown",
   "metadata": {},
   "source": [
    "```mysql\n",
    "\n",
    "```"
   ]
  },
  {
   "cell_type": "markdown",
   "metadata": {},
   "source": [
    "### 16 WHERE 型子句\n",
    "where子句后面的嵌套select子句"
   ]
  },
  {
   "cell_type": "markdown",
   "metadata": {},
   "source": [
    "```mysql\n",
    "select 列名 from 表名 where 列名=(select ...)\n",
    "\n",
    "```"
   ]
  },
  {
   "cell_type": "markdown",
   "metadata": {},
   "source": [
    "### 17 FROM 型子句"
   ]
  },
  {
   "cell_type": "markdown",
   "metadata": {},
   "source": [
    "```mysql\n",
    "\n",
    "```\n",
    "#[img] http://segmentfault.com/img/bVb5ap"
   ]
  },
  {
   "cell_type": "markdown",
   "metadata": {},
   "source": [
    "### 18 EXISTS 型子句"
   ]
  },
  {
   "cell_type": "markdown",
   "metadata": {},
   "source": [
    "```mysql\n",
    "\n",
    "```"
   ]
  },
  {
   "cell_type": "markdown",
   "metadata": {},
   "source": [
    "### 19 连接查询\n",
    "\n",
    "ref = http://www.cnblogs.com/BeginMan/p/3754322.html"
   ]
  },
  {
   "cell_type": "markdown",
   "metadata": {},
   "source": [
    "+ Join语法概述\n",
    "\n",
    "    join 用于多表中字段之间的联系，语法如下："
   ]
  },
  {
   "cell_type": "markdown",
   "metadata": {},
   "source": [
    "```mysql\n",
    "... FROM table1 INNER|LEFT|RIGHT JOIN table2 ON conditiona\n",
    "```\n",
    "    table1:左表；table2:右表。"
   ]
  },
  {
   "cell_type": "markdown",
   "metadata": {},
   "source": [
    "    JOIN 按照功能大致分为如下三类："
   ]
  },
  {
   "cell_type": "markdown",
   "metadata": {},
   "source": [
    "    INNER JOIN（内连接,或等值连接）：取得两个表中存在连接匹配关系的记录。\n",
    "\n",
    "    LEFT JOIN（左连接）：取得左表（table1）完全记录，即是右表（table2）并无对应匹配记录。\n",
    "\n",
    "    RIGHT JOIN（右连接）：与 LEFT JOIN 相反，取得右表（table2）完全记录，即是左表（table1）并无匹配对应记录。\n",
    "\n",
    "    注意：mysql不支持Full join,不过可以通过UNION 关键字来合并 LEFT JOIN 与 RIGHT JOIN来模拟FULL join."
   ]
  },
  {
   "cell_type": "markdown",
   "metadata": {},
   "source": [
    "### 以查询练习集中的表数据做示例"
   ]
  },
  {
   "cell_type": "markdown",
   "metadata": {},
   "source": [
    "INNER JOIN 示例\n",
    "\n",
    "内连接，也叫等值连接，inner join产生同时符合A和B的一组数据。"
   ]
  },
  {
   "cell_type": "markdown",
   "metadata": {},
   "source": [
    "```mysql\n",
    "select * from student inner join score on student.sno = score.sno;\n",
    "```"
   ]
  },
  {
   "cell_type": "markdown",
   "metadata": {},
   "source": [
    "```\n",
    "+-----+-------+------+---------------------+-------+-----+-------+--------+\n",
    "| sno | sname | ssex | sbirthday           | class | sno | cno   | degree |\n",
    "+-----+-------+------+---------------------+-------+-----+-------+--------+\n",
    "| 103 | 陆君  | 男   | 1974-06-03 00:00:00 | 95031 | 103 | 3-245 |     86 |\n",
    "| 105 | 匡明  | 男   | 1975-10-02 00:00:00 | 95031 | 105 | 3-245 |     75 |\n",
    "| 109 | 王芳  | 女   | 1975-02-10 00:00:00 | 95031 | 109 | 3-245 |     68 |\n",
    "| 103 | 陆君  | 男   | 1974-06-03 00:00:00 | 95031 | 103 | 3-105 |     92 |\n",
    "| 105 | 匡明  | 男   | 1975-10-02 00:00:00 | 95031 | 105 | 3-105 |     88 |\n",
    "| 109 | 王芳  | 女   | 1975-02-10 00:00:00 | 95031 | 109 | 3-105 |     76 |\n",
    "| 103 | 陆君  | 男   | 1974-06-03 00:00:00 | 95031 | 103 | 3-105 |     64 |\n",
    "| 105 | 匡明  | 男   | 1975-10-02 00:00:00 | 95031 | 105 | 3-105 |     91 |\n",
    "| 109 | 王芳  | 女   | 1975-02-10 00:00:00 | 95031 | 109 | 3-105 |     78 |\n",
    "| 103 | 陆君  | 男   | 1974-06-03 00:00:00 | 95031 | 103 | 6-166 |     85 |\n",
    "| 105 | 匡明  | 男   | 1975-10-02 00:00:00 | 95031 | 105 | 6-166 |     79 |\n",
    "| 109 | 王芳  | 女   | 1975-02-10 00:00:00 | 95031 | 109 | 6-166 |     81 |\n",
    "| 103 | 陆君  | 男   | 1974-06-03 00:00:00 | 95031 | 103 | 3-245 |     86 |\n",
    "+-----+-------+------+---------------------+-------+-----+-------+--------+\n",
    "```"
   ]
  },
  {
   "cell_type": "markdown",
   "metadata": {},
   "source": [
    "LEFT JOIN 示例\n",
    "\n",
    "LEFT JOIN 左连接从左表产生一套完整的记录,与右匹配的记录 .如果没有匹配,右侧将包含null。"
   ]
  },
  {
   "cell_type": "markdown",
   "metadata": {},
   "source": [
    "```mysql\n",
    " select * from student left join score on student.sno = score.sno;\n",
    " ```"
   ]
  },
  {
   "cell_type": "markdown",
   "metadata": {},
   "source": [
    "```\n",
    "+-----+-------+------+---------------------+-------+------+-------+--------+\n",
    "| sno | sname | ssex | sbirthday           | class | sno  | cno   | degree |\n",
    "+-----+-------+------+---------------------+-------+------+-------+--------+\n",
    "| 101 | 李军  | 男   | 1976-02-20 00:00:00 | 95033 | NULL | NULL  |   NULL |\n",
    "| 103 | 陆君  | 男   | 1974-06-03 00:00:00 | 95031 | 103  | 3-245 |     86 |\n",
    "| 103 | 陆君  | 男   | 1974-06-03 00:00:00 | 95031 | 103  | 3-105 |     92 |\n",
    "| 103 | 陆君  | 男   | 1974-06-03 00:00:00 | 95031 | 103  | 3-105 |     64 |\n",
    "| 103 | 陆君  | 男   | 1974-06-03 00:00:00 | 95031 | 103  | 6-166 |     85 |\n",
    "| 103 | 陆君  | 男   | 1974-06-03 00:00:00 | 95031 | 103  | 3-245 |     86 |\n",
    "| 105 | 匡明  | 男   | 1975-10-02 00:00:00 | 95031 | 105  | 3-245 |     75 |\n",
    "| 105 | 匡明  | 男   | 1975-10-02 00:00:00 | 95031 | 105  | 3-105 |     88 |\n",
    "| 105 | 匡明  | 男   | 1975-10-02 00:00:00 | 95031 | 105  | 3-105 |     91 |\n",
    "| 105 | 匡明  | 男   | 1975-10-02 00:00:00 | 95031 | 105  | 6-166 |     79 |\n",
    "| 107 | 王丽  | 女   | 1976-01-23 00:00:00 | 95033 | NULL | NULL  |   NULL |\n",
    "| 108 | 曾华  | 男   | 1977-09-01 00:00:00 | 95033 | NULL | NULL  |   NULL |\n",
    "| 109 | 王芳  | 女   | 1975-02-10 00:00:00 | 95031 | 109  | 3-245 |     68 |\n",
    "| 109 | 王芳  | 女   | 1975-02-10 00:00:00 | 95031 | 109  | 3-105 |     76 |\n",
    "| 109 | 王芳  | 女   | 1975-02-10 00:00:00 | 95031 | 109  | 3-105 |     78 |\n",
    "| 109 | 王芳  | 女   | 1975-02-10 00:00:00 | 95031 | 109  | 6-166 |     81 |\n",
    "+-----+-------+------+---------------------+-------+------+-------+--------+\n",
    "```"
   ]
  },
  {
   "cell_type": "markdown",
   "metadata": {},
   "source": [
    "RIGHT JOIN 示例\n",
    "\n",
    "RIGHT JOIN 右连接从右表产生一套完整的记录,与左表匹配的记录 .如果没有匹配,右侧将包含null。"
   ]
  },
  {
   "cell_type": "markdown",
   "metadata": {},
   "source": [
    "```mysql\n",
    "select * from student right join score on student.sno = score.sno;\n",
    "```"
   ]
  },
  {
   "cell_type": "markdown",
   "metadata": {},
   "source": [
    "```\n",
    "+------+-------+------+---------------------+-------+-----+-------+--------+\n",
    "| sno  | sname | ssex | sbirthday           | class | sno | cno   | degree |\n",
    "+------+-------+------+---------------------+-------+-----+-------+--------+\n",
    "| 103  | 陆君  | 男   | 1974-06-03 00:00:00 | 95031 | 103 | 3-245 |     86 |\n",
    "| 105  | 匡明  | 男   | 1975-10-02 00:00:00 | 95031 | 105 | 3-245 |     75 |\n",
    "| 109  | 王芳  | 女   | 1975-02-10 00:00:00 | 95031 | 109 | 3-245 |     68 |\n",
    "| 103  | 陆君  | 男   | 1974-06-03 00:00:00 | 95031 | 103 | 3-105 |     92 |\n",
    "| 105  | 匡明  | 男   | 1975-10-02 00:00:00 | 95031 | 105 | 3-105 |     88 |\n",
    "| 109  | 王芳  | 女   | 1975-02-10 00:00:00 | 95031 | 109 | 3-105 |     76 |\n",
    "| 103  | 陆君  | 男   | 1974-06-03 00:00:00 | 95031 | 103 | 3-105 |     64 |\n",
    "| 105  | 匡明  | 男   | 1975-10-02 00:00:00 | 95031 | 105 | 3-105 |     91 |\n",
    "| 109  | 王芳  | 女   | 1975-02-10 00:00:00 | 95031 | 109 | 3-105 |     78 |\n",
    "| 103  | 陆君  | 男   | 1974-06-03 00:00:00 | 95031 | 103 | 6-166 |     85 |\n",
    "| 105  | 匡明  | 男   | 1975-10-02 00:00:00 | 95031 | 105 | 6-166 |     79 |\n",
    "| 109  | 王芳  | 女   | 1975-02-10 00:00:00 | 95031 | 109 | 6-166 |     81 |\n",
    "| 103  | 陆君  | 男   | 1974-06-03 00:00:00 | 95031 | 103 | 3-245 |     86 |\n",
    "+------+-------+------+---------------------+-------+-----+-------+--------+\n",
    "```"
   ]
  },
  {
   "cell_type": "markdown",
   "metadata": {},
   "source": [
    "```mysql\n",
    "\n",
    "\n",
    "```"
   ]
  },
  {
   "cell_type": "markdown",
   "metadata": {},
   "source": [
    "## 查询综合练习"
   ]
  },
  {
   "cell_type": "markdown",
   "metadata": {},
   "source": [
    "### 一、设有一数据库，包括四个表：\n",
    "学生表（student）、课程表（course）、成绩表（score）以及教师信息表（teacher）\n",
    "\n",
    "用SQL语句创建四个表并完成相关题目\n",
    "\n",
    "ref = http://www.cnblogs.com/aqxss/p/6563625.html (1-45)"
   ]
  },
  {
   "cell_type": "markdown",
   "metadata": {},
   "source": [
    "建立学生信息表student"
   ]
  },
  {
   "cell_type": "markdown",
   "metadata": {},
   "source": [
    "```mysql\n",
    "create table student\n",
    "(\n",
    "sno varchar(20) not null primary key,\n",
    "sname varchar(20) not null,\n",
    "ssex varchar(20) not null,\n",
    "sbirthday datetime,\n",
    "class varchar(20)\n",
    "\n",
    ");\n",
    "```"
   ]
  },
  {
   "cell_type": "markdown",
   "metadata": {},
   "source": [
    "student表结构"
   ]
  },
  {
   "cell_type": "markdown",
   "metadata": {},
   "source": [
    "```text\n",
    "+-----------+-------------+------+-----+---------+-------+\n",
    "| Field     | Type        | Null | Key | Default | Extra |\n",
    "+-----------+-------------+------+-----+---------+-------+\n",
    "| sno       | varchar(20) | NO   | PRI | NULL    |       |\n",
    "| sname     | varchar(20) | NO   |     | NULL    |       |\n",
    "| ssex      | varchar(20) | NO   |     | NULL    |       |\n",
    "| sbirthday | datetime    | YES  |     | NULL    |       |\n",
    "| class     | varchar(20) | YES  |     | NULL    |       |\n",
    "+-----------+-------------+------+-----+---------+-------+\n",
    "```"
   ]
  },
  {
   "cell_type": "markdown",
   "metadata": {},
   "source": [
    "建立教师表teacher"
   ]
  },
  {
   "cell_type": "markdown",
   "metadata": {},
   "source": [
    "```mysql\n",
    "create table teacher\n",
    "(\n",
    "tno varchar(20) not null primary key,\n",
    "tname varchar(20) not null,\n",
    "tsex varchar(20) not null,\n",
    "tbirthday datetime,\n",
    "prof varchar(20),\n",
    "depart varchar(20) not null\n",
    "\n",
    ");\n",
    "```"
   ]
  },
  {
   "cell_type": "markdown",
   "metadata": {},
   "source": [
    "teacher表结构"
   ]
  },
  {
   "cell_type": "markdown",
   "metadata": {},
   "source": [
    "```text\n",
    "+-----------+-------------+------+-----+---------+-------+\n",
    "| Field     | Type        | Null | Key | Default | Extra |\n",
    "+-----------+-------------+------+-----+---------+-------+\n",
    "| tno       | varchar(20) | NO   | PRI | NULL    |       |\n",
    "| tname     | varchar(20) | NO   |     | NULL    |       |\n",
    "| tsex      | varchar(20) | NO   |     | NULL    |       |\n",
    "| tbirthday | datetime    | YES  |     | NULL    |       |\n",
    "| prof      | varchar(20) | YES  |     | NULL    |       |\n",
    "| depart    | varchar(20) | NO   |     | NULL    |       |\n",
    "+-----------+-------------+------+-----+---------+-------+\n",
    "\n",
    "```"
   ]
  },
  {
   "cell_type": "markdown",
   "metadata": {},
   "source": [
    "建立课程表course"
   ]
  },
  {
   "cell_type": "markdown",
   "metadata": {},
   "source": [
    "```mysql\n",
    "create table course\n",
    "(\n",
    "cno varchar(20) not null primary key,\n",
    "cname varchar(20) not null,\n",
    "tno varchar(20) not null,\n",
    "foreign key(tno) references teacher(tno)\n",
    "\n",
    ");\n",
    "```"
   ]
  },
  {
   "cell_type": "markdown",
   "metadata": {},
   "source": [
    "course表结构"
   ]
  },
  {
   "cell_type": "markdown",
   "metadata": {},
   "source": [
    "```text\n",
    "+-------+-------------+------+-----+---------+-------+\n",
    "| Field | Type        | Null | Key | Default | Extra |\n",
    "+-------+-------------+------+-----+---------+-------+\n",
    "| cno   | varchar(20) | NO   | PRI | NULL    |       |\n",
    "| cname | varchar(20) | NO   |     | NULL    |       |\n",
    "| tno   | varchar(20) | NO   | MUL | NULL    |       |\n",
    "+-------+-------------+------+-----+---------+-------+\n",
    "```"
   ]
  },
  {
   "cell_type": "markdown",
   "metadata": {},
   "source": [
    "建立成绩表"
   ]
  },
  {
   "cell_type": "markdown",
   "metadata": {},
   "source": [
    "```mysql\n",
    "create table score\n",
    "(\n",
    "sno varchar(20) not null,\n",
    "foreign key(sno) references student(sno),\n",
    "cno varchar(20) not null,\n",
    "foreign key(cno) references course(cno),\n",
    "degree decimal\n",
    "\n",
    ");\n",
    "```"
   ]
  },
  {
   "cell_type": "markdown",
   "metadata": {},
   "source": [
    "score表结构"
   ]
  },
  {
   "cell_type": "markdown",
   "metadata": {},
   "source": [
    "```text\n",
    "+--------+---------------+------+-----+---------+-------+\n",
    "| Field  | Type          | Null | Key | Default | Extra |\n",
    "+--------+---------------+------+-----+---------+-------+\n",
    "| sno    | varchar(20)   | NO   | MUL | NULL    |       |\n",
    "| cno    | varchar(20)   | NO   | MUL | NULL    |       |\n",
    "| degree | decimal(10,0) | YES  |     | NULL    |       |\n",
    "+--------+---------------+------+-----+---------+-------+\n",
    "```"
   ]
  },
  {
   "cell_type": "markdown",
   "metadata": {},
   "source": [
    "添加学生信息"
   ]
  },
  {
   "cell_type": "markdown",
   "metadata": {},
   "source": [
    "```mysql\n",
    "insert into student values('108','曾华','男','1977-09-01','95033');\n",
    "insert into student values('105','匡明','男','1975-10-02','95031');\n",
    "insert into student values('107','王丽','女','1976-01-23','95033');\n",
    "insert into student values('101','李军','男','1976-02-20','95033');\n",
    "insert into student values('109','王芳','女','1975-02-10','95031');\n",
    "insert into student values('103','陆君','男','1974-06-03','95031');\n",
    "\n",
    "```"
   ]
  },
  {
   "cell_type": "markdown",
   "metadata": {},
   "source": [
    "添加教师信息"
   ]
  },
  {
   "cell_type": "markdown",
   "metadata": {},
   "source": [
    "```mysql\n",
    "insert into teacher values('804','李诚','男','1958-12-02','副教授','计算机系');\n",
    "insert into teacher values('856','张旭','男','1969-03-12','讲师','电子工程系');\n",
    "insert into teacher values('825','王萍','女','1972-05-05','助教','计算机系');\n",
    "insert into teacher values('831','刘冰','女','1977-08-14','助教','电子工程系');\n",
    "\n",
    "```"
   ]
  },
  {
   "cell_type": "markdown",
   "metadata": {},
   "source": [
    "添加课程信息"
   ]
  },
  {
   "cell_type": "markdown",
   "metadata": {},
   "source": [
    "```mysql\n",
    "insert into course values('3-105','计算机导论','825');\n",
    "insert into course values('3-245','操作系统','804');\n",
    "insert into course values('6-166','数字电路','856');\n",
    "insert into course values('9-888','高等数学','831');\n",
    "```"
   ]
  },
  {
   "cell_type": "markdown",
   "metadata": {},
   "source": [
    "添加成绩信息"
   ]
  },
  {
   "cell_type": "markdown",
   "metadata": {},
   "source": [
    "```mysql\n",
    "insert into score values('103','3-245','86');\n",
    "insert into score values('105','3-245','75');\n",
    "insert into score values('109','3-245','68');\n",
    "insert into score values('103','3-105','92');\n",
    "insert into score values('105','3-105','88');\n",
    "insert into score values('109','3-105','76');\n",
    "insert into score values('103','3-105','64');\n",
    "insert into score values('105','3-105','91');\n",
    "insert into score values('109','3-105','78');\n",
    "insert into score values('103','6-166','85');\n",
    "insert into score values('105','6-166','79');\n",
    "insert into score values('109','6-166','81');\n",
    "```"
   ]
  },
  {
   "cell_type": "markdown",
   "metadata": {},
   "source": [
    "### 问题集\n",
    "Q1、 查询Student表中的所有记录的Sname、Ssex和Class列"
   ]
  },
  {
   "cell_type": "markdown",
   "metadata": {},
   "source": [
    "```mysql\n",
    "select sname,ssex,class from student;\n",
    "```"
   ]
  },
  {
   "cell_type": "markdown",
   "metadata": {},
   "source": [
    "```text\n",
    "+-------+------+-------+\n",
    "| sname | ssex | class |\n",
    "+-------+------+-------+\n",
    "| 李军  | 男   | 95033 |\n",
    "| 陆君  | 男   | 95031 |\n",
    "| 匡明  | 男   | 95031 |\n",
    "| 王丽  | 女   | 95033 |\n",
    "| 曾华  | 男   | 95033 |\n",
    "| 王芳  | 女   | 95031 |\n",
    "+-------+------+-------+\n",
    "\n",
    "```"
   ]
  },
  {
   "cell_type": "markdown",
   "metadata": {},
   "source": [
    "Q2、查询教师所有的单位即不重复的Depart列"
   ]
  },
  {
   "cell_type": "markdown",
   "metadata": {},
   "source": [
    "```mysql\n",
    "select distinct depart from teacher;\n",
    "```"
   ]
  },
  {
   "cell_type": "markdown",
   "metadata": {},
   "source": [
    "```text\n",
    "+------------+\n",
    "| depart     |\n",
    "+------------+\n",
    "| 计算机系   |\n",
    "| 电子工程系 |\n",
    "+------------+\n",
    "```"
   ]
  },
  {
   "cell_type": "markdown",
   "metadata": {},
   "source": [
    "Q3、 查询Student表的所有记录"
   ]
  },
  {
   "cell_type": "markdown",
   "metadata": {},
   "source": [
    "```mysql\n",
    "select * from student;\n",
    "```"
   ]
  },
  {
   "cell_type": "markdown",
   "metadata": {},
   "source": [
    "```text\n",
    "+-----+-------+------+---------------------+-------+\n",
    "| sno | sname | ssex | sbirthday           | class |\n",
    "+-----+-------+------+---------------------+-------+\n",
    "| 101 | 李军  | 男   | 1976-02-20 00:00:00 | 95033 |\n",
    "| 103 | 陆君  | 男   | 1974-06-03 00:00:00 | 95031 |\n",
    "| 105 | 匡明  | 男   | 1975-10-02 00:00:00 | 95031 |\n",
    "| 107 | 王丽  | 女   | 1976-01-23 00:00:00 | 95033 |\n",
    "| 108 | 曾华  | 男   | 1977-09-01 00:00:00 | 95033 |\n",
    "| 109 | 王芳  | 女   | 1975-02-10 00:00:00 | 95031 |\n",
    "+-----+-------+------+---------------------+-------+\n",
    "```"
   ]
  },
  {
   "cell_type": "markdown",
   "metadata": {},
   "source": [
    "Q4、查询Score表中成绩在60到80之间的所有记录"
   ]
  },
  {
   "cell_type": "markdown",
   "metadata": {},
   "source": [
    "```mysql\n",
    "select * from score where degree between 60 and 80;\n",
    "```"
   ]
  },
  {
   "cell_type": "markdown",
   "metadata": {},
   "source": [
    "```text\n",
    "+-----+-------+--------+\n",
    "| sno | cno   | degree |\n",
    "+-----+-------+--------+\n",
    "| 105 | 3-245 |     75 |\n",
    "| 109 | 3-245 |     68 |\n",
    "| 109 | 3-105 |     76 |\n",
    "| 103 | 3-105 |     64 |\n",
    "| 109 | 3-105 |     78 |\n",
    "| 105 | 6-166 |     79 |\n",
    "+-----+-------+--------+\n",
    "\n",
    "```"
   ]
  },
  {
   "cell_type": "markdown",
   "metadata": {},
   "source": [
    "Q5、查询Score表中成绩为85，86或88的记录"
   ]
  },
  {
   "cell_type": "markdown",
   "metadata": {},
   "source": [
    "```mysql\n",
    "select * from Score where Degree in(85,86,88);\n",
    "```"
   ]
  },
  {
   "cell_type": "markdown",
   "metadata": {},
   "source": [
    "```text\n",
    "+-----+-------+--------+\n",
    "| sno | cno   | degree |\n",
    "+-----+-------+--------+\n",
    "| 103 | 3-245 |     86 |\n",
    "| 105 | 3-105 |     88 |\n",
    "| 103 | 6-166 |     85 |\n",
    "| 103 | 3-245 |     86 |\n",
    "+-----+-------+--------+\n",
    "\n",
    "```"
   ]
  },
  {
   "cell_type": "markdown",
   "metadata": {},
   "source": [
    "Q6、查询Student表中“95031”班或性别为“女”的同学记录"
   ]
  },
  {
   "cell_type": "markdown",
   "metadata": {},
   "source": [
    "```mysql\n",
    "select * from student where class = '95031' or ssex = '女';\n",
    "```"
   ]
  },
  {
   "cell_type": "markdown",
   "metadata": {},
   "source": [
    "```text\n",
    "+-----+-------+------+---------------------+-------+\n",
    "| sno | sname | ssex | sbirthday           | class |\n",
    "+-----+-------+------+---------------------+-------+\n",
    "| 103 | 陆君  | 男   | 1974-06-03 00:00:00 | 95031 |\n",
    "| 105 | 匡明  | 男   | 1975-10-02 00:00:00 | 95031 |\n",
    "| 107 | 王丽  | 女   | 1976-01-23 00:00:00 | 95033 |\n",
    "| 109 | 王芳  | 女   | 1975-02-10 00:00:00 | 95031 |\n",
    "+-----+-------+------+---------------------+-------+\n",
    "```"
   ]
  },
  {
   "cell_type": "markdown",
   "metadata": {},
   "source": [
    "Q7、以Class降序查询Student表的所有记录"
   ]
  },
  {
   "cell_type": "markdown",
   "metadata": {},
   "source": [
    "```mysql\n",
    "select * from student order by class desc;\n",
    "```"
   ]
  },
  {
   "cell_type": "markdown",
   "metadata": {},
   "source": [
    "```text\n",
    "+-----+-------+------+---------------------+-------+\n",
    "| sno | sname | ssex | sbirthday           | class |\n",
    "+-----+-------+------+---------------------+-------+\n",
    "| 101 | 李军  | 男   | 1976-02-20 00:00:00 | 95033 |\n",
    "| 107 | 王丽  | 女   | 1976-01-23 00:00:00 | 95033 |\n",
    "| 108 | 曾华  | 男   | 1977-09-01 00:00:00 | 95033 |\n",
    "| 103 | 陆君  | 男   | 1974-06-03 00:00:00 | 95031 |\n",
    "| 105 | 匡明  | 男   | 1975-10-02 00:00:00 | 95031 |\n",
    "| 109 | 王芳  | 女   | 1975-02-10 00:00:00 | 95031 |\n",
    "+-----+-------+------+---------------------+-------+\n",
    "\n",
    "```"
   ]
  },
  {
   "cell_type": "markdown",
   "metadata": {},
   "source": [
    "Q8、以Cno升序、Degree降序查询Score表的所有记录"
   ]
  },
  {
   "cell_type": "markdown",
   "metadata": {},
   "source": [
    "```mysql\n",
    "select * from Score order by cno asc,degree desc;\n",
    "```"
   ]
  },
  {
   "cell_type": "markdown",
   "metadata": {},
   "source": [
    "```text\n",
    "+-----+-------+--------+\n",
    "| sno | cno   | degree |\n",
    "+-----+-------+--------+\n",
    "| 103 | 3-105 |     92 |\n",
    "| 105 | 3-105 |     91 |\n",
    "| 105 | 3-105 |     88 |\n",
    "| 109 | 3-105 |     78 |\n",
    "| 109 | 3-105 |     76 |\n",
    "| 103 | 3-105 |     64 |\n",
    "| 103 | 3-245 |     86 |\n",
    "| 103 | 3-245 |     86 |\n",
    "| 105 | 3-245 |     75 |\n",
    "| 109 | 3-245 |     68 |\n",
    "| 103 | 6-166 |     85 |\n",
    "| 109 | 6-166 |     81 |\n",
    "| 105 | 6-166 |     79 |\n",
    "+-----+-------+--------+\n",
    "```"
   ]
  },
  {
   "cell_type": "markdown",
   "metadata": {},
   "source": [
    "Q9、查询“95031”班的学生人数"
   ]
  },
  {
   "cell_type": "markdown",
   "metadata": {},
   "source": [
    "```mysql\n",
    " select count(*) from student where class = '95031';\n",
    "```"
   ]
  },
  {
   "cell_type": "markdown",
   "metadata": {},
   "source": [
    "```text\n",
    "+----------+\n",
    "| count(*) |\n",
    "+----------+\n",
    "|        3 |\n",
    "+----------+\n",
    "```"
   ]
  },
  {
   "cell_type": "markdown",
   "metadata": {},
   "source": [
    "Q10、查询Score表中的最高分的学生学号和课程号。（子查询或者排序）"
   ]
  },
  {
   "cell_type": "markdown",
   "metadata": {},
   "source": [
    "```mysql\n",
    "select sno,cno from score where degree = (select max(degree) from score);\n",
    "select sno,cno from score order by degree desc limit 0,1;\n",
    "```"
   ]
  },
  {
   "cell_type": "markdown",
   "metadata": {},
   "source": [
    "```text\n",
    "+-----+-------+\n",
    "| sno | cno   |\n",
    "+-----+-------+\n",
    "| 103 | 3-105 |\n",
    "+-----+-------+\n",
    "```"
   ]
  },
  {
   "cell_type": "markdown",
   "metadata": {},
   "source": [
    "Q11、查询每门课的平均成绩"
   ]
  },
  {
   "cell_type": "markdown",
   "metadata": {},
   "source": [
    "```mysql\n",
    "select cno,avg(degree) from score group by cno;\n",
    "```"
   ]
  },
  {
   "cell_type": "markdown",
   "metadata": {},
   "source": [
    "```text\n",
    "+-------+-------------+\n",
    "| cno   | avg(degree) |\n",
    "+-------+-------------+\n",
    "| 3-105 |     81.5000 |\n",
    "| 3-245 |     78.7500 |\n",
    "| 6-166 |     81.6667 |\n",
    "+-------+-------------+\n",
    "\n",
    "```"
   ]
  },
  {
   "cell_type": "markdown",
   "metadata": {},
   "source": [
    "Q12、查询Score表中至少有5名学生选修的并以3开头的课程的平均分数"
   ]
  },
  {
   "cell_type": "markdown",
   "metadata": {},
   "source": [
    "```mysql\n",
    "select avg(Degree) from score where Cno like '3%' and Cno in (select Cno from score group by Cno having count(*)>=5) ;\n",
    "# 用in 不用= 是因为可能会有多个\n",
    "# 简单写法：\n",
    "select avg(degree) from score where cno like '3%' group by cno having count(sno)>=5;\n",
    "```\n",
    "+ 知识点：\n",
    "\n",
    "    group by 列名：以某一列为依据做分组统计\n",
    "    \n",
    "    having 条件表达式：按条件筛选出符合要求的数据"
   ]
  },
  {
   "cell_type": "markdown",
   "metadata": {},
   "source": [
    "```text\n",
    "+-------------+\n",
    "| avg(Degree) |\n",
    "+-------------+\n",
    "|     81.5000 |\n",
    "+-------------+\n",
    "```"
   ]
  },
  {
   "cell_type": "markdown",
   "metadata": {},
   "source": [
    "Q13、查询分数大于70，小于90的sno列"
   ]
  },
  {
   "cell_type": "markdown",
   "metadata": {},
   "source": [
    "```mysql\n",
    "select Sno from Score where degree between 70 and 90;\n",
    "```"
   ]
  },
  {
   "cell_type": "markdown",
   "metadata": {},
   "source": [
    "```text\n",
    "\n",
    "+-----+--------+\n",
    "| sno | degree |\n",
    "+-----+--------+\n",
    "| 103 |     86 |\n",
    "| 105 |     75 |\n",
    "| 105 |     88 |\n",
    "| 109 |     76 |\n",
    "| 109 |     78 |\n",
    "| 103 |     85 |\n",
    "| 105 |     79 |\n",
    "| 109 |     81 |\n",
    "| 103 |     86 |\n",
    "+-----+--------+\n",
    "```"
   ]
  },
  {
   "cell_type": "markdown",
   "metadata": {},
   "source": [
    "Q14、查询所有学生的Sname、Cno和Degree列"
   ]
  },
  {
   "cell_type": "markdown",
   "metadata": {},
   "source": [
    "```mysql\n",
    " select sname,cno,degree from student,score where student.sno = score.sno;\n",
    "```\n",
    "+ 知识点\n",
    "\n",
    "    按where 条件从两张表中查询数据"
   ]
  },
  {
   "cell_type": "markdown",
   "metadata": {},
   "source": [
    "```\n",
    "+-------+-------+--------+\n",
    "| sname | cno   | degree |\n",
    "+-------+-------+--------+\n",
    "| 陆君  | 3-245 |     86 |\n",
    "| 匡明  | 3-245 |     75 |\n",
    "| 王芳  | 3-245 |     68 |\n",
    "| 陆君  | 3-105 |     92 |\n",
    "| 匡明  | 3-105 |     88 |\n",
    "| 王芳  | 3-105 |     76 |\n",
    "| 陆君  | 3-105 |     64 |\n",
    "| 匡明  | 3-105 |     91 |\n",
    "| 王芳  | 3-105 |     78 |\n",
    "| 陆君  | 6-166 |     85 |\n",
    "| 匡明  | 6-166 |     79 |\n",
    "| 王芳  | 6-166 |     81 |\n",
    "| 陆君  | 3-245 |     86 |\n",
    "+-------+-------+--------+\n",
    "```"
   ]
  },
  {
   "cell_type": "markdown",
   "metadata": {},
   "source": [
    "Q15、查询所有学生的Sno、Cname和Degree列"
   ]
  },
  {
   "cell_type": "markdown",
   "metadata": {},
   "source": [
    "```mysql\n",
    "select sno,cname,degree from score,course where score.cno = course.cno;\n",
    "```"
   ]
  },
  {
   "cell_type": "markdown",
   "metadata": {},
   "source": [
    "```\n",
    "+-----+------------+--------+\n",
    "| sno | cname      | degree |\n",
    "+-----+------------+--------+\n",
    "| 103 | 计算机导论 |     92 |\n",
    "| 105 | 计算机导论 |     88 |\n",
    "| 109 | 计算机导论 |     76 |\n",
    "| 103 | 计算机导论 |     64 |\n",
    "| 105 | 计算机导论 |     91 |\n",
    "| 109 | 计算机导论 |     78 |\n",
    "| 103 | 操作系统   |     86 |\n",
    "| 105 | 操作系统   |     75 |\n",
    "| 109 | 操作系统   |     68 |\n",
    "| 103 | 操作系统   |     86 |\n",
    "| 103 | 数字电路   |     85 |\n",
    "| 105 | 数字电路   |     79 |\n",
    "| 109 | 数字电路   |     81 |\n",
    "+-----+------------+--------+\n",
    "```\n"
   ]
  },
  {
   "cell_type": "markdown",
   "metadata": {},
   "source": [
    "Q16、查询所有学生的Sname、Cname和Degree列"
   ]
  },
  {
   "cell_type": "markdown",
   "metadata": {},
   "source": [
    "```mysql\n",
    "select sname,cname,degree from student,course,score where student.sno = score.sno and course.cno = score.cno;\n",
    "#inner join .. on 写法：\n",
    "select sname,cname,degree from student inner join score on student.sno = score.sno inner join course on course.cno = score.cno;\n",
    "```\n",
    "知识点：\n",
    "inner join 用法：(inner可以省略）\n",
    "```mysql\n",
    "select 表明.列名，[表明.列名] ... from 表名 inner join 表名 on 条件\n",
    "```"
   ]
  },
  {
   "cell_type": "markdown",
   "metadata": {},
   "source": [
    "```\n",
    "+-------+------------+--------+\n",
    "| sname | cname      | degree |\n",
    "+-------+------------+--------+\n",
    "| 陆君  | 操作系统   |     86 |\n",
    "| 匡明  | 操作系统   |     75 |\n",
    "| 王芳  | 操作系统   |     68 |\n",
    "| 陆君  | 计算机导论 |     92 |\n",
    "| 匡明  | 计算机导论 |     88 |\n",
    "| 王芳  | 计算机导论 |     76 |\n",
    "| 陆君  | 计算机导论 |     64 |\n",
    "| 匡明  | 计算机导论 |     91 |\n",
    "| 王芳  | 计算机导论 |     78 |\n",
    "| 陆君  | 数字电路   |     85 |\n",
    "| 匡明  | 数字电路   |     79 |\n",
    "| 王芳  | 数字电路   |     81 |\n",
    "| 陆君  | 操作系统   |     86 |\n",
    "+-------+------------+--------+\n",
    "```"
   ]
  },
  {
   "cell_type": "markdown",
   "metadata": {},
   "source": [
    "Q17、查询“95033”班学生的平均分"
   ]
  },
  {
   "cell_type": "markdown",
   "metadata": {},
   "source": [
    "```mysql\n",
    " select avg(score.degree) as \"class:95033\" from student,score where student.class = \"95033\";　\n",
    "```"
   ]
  },
  {
   "cell_type": "markdown",
   "metadata": {},
   "source": [
    "```\n",
    "+-------------+\n",
    "| class:95033 |\n",
    "+-------------+\n",
    "|     80.6923 |\n",
    "+-------------+\n",
    "```\n"
   ]
  },
  {
   "cell_type": "markdown",
   "metadata": {},
   "source": [
    "Q18、 假设使用如下命令建立了一个grade表"
   ]
  },
  {
   "cell_type": "markdown",
   "metadata": {},
   "source": [
    "```mysql\n",
    "create table grade(low  int(3),upp  int(3),rank  char(1))\n",
    "\n",
    "insert into grade values(90,100,’A’)\n",
    "\n",
    "insert into grade values(80,89,’B’)\n",
    "\n",
    "insert into grade values(70,79,’C’)\n",
    "\n",
    "insert into grade values(60,69,’D’)\n",
    "\n",
    "insert into grade values(0,59,’E’)\n",
    "```"
   ]
  },
  {
   "cell_type": "markdown",
   "metadata": {},
   "source": [
    "现查询所有分数在low与upp之间的同学的Sno、Cno和rank列"
   ]
  },
  {
   "cell_type": "markdown",
   "metadata": {},
   "source": [
    "```mysql\n",
    "select Sno,Cno,rank from Score,grade where degree between low and upp\n",
    "```"
   ]
  },
  {
   "cell_type": "markdown",
   "metadata": {},
   "source": [
    "Q19、查询选修“3-105”课程的成绩高于“109”号同学成绩的所有同学的记录"
   ]
  },
  {
   "cell_type": "markdown",
   "metadata": {},
   "source": [
    "```mysql\n",
    "--109同学，选修是3-105课的</span>\n",
    "select * from score where Cno='3-105' and degree>(select max(degree ) from Score where Sno='109' and Cno='3-105' );\n",
    "--109同学，没有选修3-105课</span>\n",
    "select * from score where Cno='3-105' and degree>(select max(degree ) from Score where Sno='109')\n",
    "and degree<( select max(degree ) from Score where sno in (select Sno from score group by Sno having count(*)>1));\n",
    "```"
   ]
  },
  {
   "cell_type": "markdown",
   "metadata": {},
   "source": [
    "```\n",
    "--109同学，选修是3-105课的\n",
    "+-----+-------+--------+\n",
    "| sno | cno   | degree |\n",
    "+-----+-------+--------+\n",
    "| 103 | 3-105 |     92 |\n",
    "| 105 | 3-105 |     88 |\n",
    "| 105 | 3-105 |     91 |\n",
    "+-----+-------+--------+\n",
    "--109同学，没有选修3-105课\n",
    "+-----+-------+--------+\n",
    "| sno | cno   | degree |\n",
    "+-----+-------+--------+\n",
    "| 105 | 3-105 |     88 |\n",
    "| 105 | 3-105 |     91 |\n",
    "+-----+-------+--------+\n",
    "```"
   ]
  },
  {
   "cell_type": "markdown",
   "metadata": {},
   "source": [
    "Q20、选了多门课程并且是这个课程下不是最高分的"
   ]
  },
  {
   "cell_type": "markdown",
   "metadata": {},
   "source": [
    "```mysql\n",
    "select * from score as a where sno in (select sno from score group by sno having count(*)>1) and degree<( select max(degree ) from score as b where b.cno = a.cno);\n",
    "```\n",
    "知识点：单表对照查询\n",
    "通过重命名形成两张表，对表中的元组进行对照查询"
   ]
  },
  {
   "cell_type": "markdown",
   "metadata": {},
   "source": [
    "```\n",
    "+-----+-------+--------+\n",
    "| sno | cno   | degree |\n",
    "+-----+-------+--------+\n",
    "| 105 | 3-245 |     75 |\n",
    "| 109 | 3-245 |     68 |\n",
    "| 105 | 3-105 |     88 |\n",
    "| 109 | 3-105 |     76 |\n",
    "| 103 | 3-105 |     64 |\n",
    "| 105 | 3-105 |     91 |\n",
    "| 109 | 3-105 |     78 |\n",
    "| 105 | 6-166 |     79 |\n",
    "| 109 | 6-166 |     81 |\n",
    "+-----+-------+--------+\n",
    "```"
   ]
  },
  {
   "cell_type": "markdown",
   "metadata": {},
   "source": [
    "Q21、查询 高于学号为“109”、课程号为“3-105”的成绩的所有记录"
   ]
  },
  {
   "cell_type": "markdown",
   "metadata": {},
   "source": [
    "```mysql\n",
    "select * from score where degree>(select degree from Score where sno='109' and cno='3-105' )\n",
    "```"
   ]
  },
  {
   "cell_type": "markdown",
   "metadata": {},
   "source": [
    "```\n",
    "+-----+-------+--------+\n",
    "| sno | cno   | degree |\n",
    "+-----+-------+--------+\n",
    "| 105 | 3-105 |     88 |\n",
    "| 103 | 6-166 |     85 |\n",
    "| 105 | 6-166 |     79 |\n",
    "| 109 | 6-166 |     81 |\n",
    "| 103 | 3-245 |     89 |\n",
    "+-----+-------+--------+\n",
    "```"
   ]
  },
  {
   "cell_type": "markdown",
   "metadata": {},
   "source": [
    "Q22、查询和学号为108、101的同学同年出生的所有学生的Sno、Sname和Sbirthday列"
   ]
  },
  {
   "cell_type": "markdown",
   "metadata": {},
   "source": [
    "```mysql\n",
    "select sno,sname,sbirthday  from student where year(sbirthday) = (select year(sbirthday) from student where  sno='108')\n",
    "\n",
    "select sno,sname,sbirthday  from student where year(sbirthday) = (select year(sbirthday) from student where  sno='101')\n",
    "```"
   ]
  },
  {
   "cell_type": "markdown",
   "metadata": {},
   "source": [
    "Q23、查询“张旭“教师任课的学生成绩"
   ]
  },
  {
   "cell_type": "markdown",
   "metadata": {},
   "source": [
    "```mysql\n",
    "select Sno,degree from score,Course  where score.Cno=Course.Cno and Course.Tno= (select Tno from Teacher where Tname='张旭' )\n",
    "\n",
    "select degree from score where Cno in (select cno from course where Tno= (select Tno from Teacher where Tname='张旭'  ) )\n",
    "```"
   ]
  },
  {
   "cell_type": "markdown",
   "metadata": {},
   "source": [
    "Q24、查询选修某课程的同学人数多于5人的教师姓名"
   ]
  },
  {
   "cell_type": "markdown",
   "metadata": {},
   "source": [
    "```mysql\n",
    "select Tname from Teacher,  Course where Teacher.Tno=Course.Tno and Course.Cno =(select Cno from Score group by Cno having count(*)>5)\n",
    "1\n",
    "select Tname from Teacher where tno=( select Tno from Course where cno=( select Cno from Score group by Cno having count(*)>5 ))\n",
    "```"
   ]
  },
  {
   "cell_type": "markdown",
   "metadata": {},
   "source": [
    "Q25、查询95033班和95031班全体学生的记录"
   ]
  },
  {
   "cell_type": "markdown",
   "metadata": {},
   "source": [
    "```mysql\n",
    "select * from  student where  class in ('95033','95031')\n",
    "```"
   ]
  },
  {
   "cell_type": "markdown",
   "metadata": {},
   "source": [
    "Q26、查询存在有85分以上成绩的课程Cno"
   ]
  },
  {
   "cell_type": "markdown",
   "metadata": {},
   "source": [
    "```mysql\n",
    "select Cno from score where degree>85\n",
    "```"
   ]
  },
  {
   "cell_type": "markdown",
   "metadata": {},
   "source": [
    "Q27、查询出“计算机系“教师所教课程的成绩表"
   ]
  },
  {
   "cell_type": "markdown",
   "metadata": {},
   "source": [
    "```mysql\n",
    "select * from course  where cno in (select cno from course  where tno in (select tno from teacher where Depart='计算机系'))\n",
    "```"
   ]
  },
  {
   "cell_type": "markdown",
   "metadata": {},
   "source": [
    "Q28、查询“计算 机系”与“电子工程系“不同职称的教师的Tname和Prof"
   ]
  },
  {
   "cell_type": "markdown",
   "metadata": {},
   "source": [
    "```mysql\n",
    "select Tname,Prof from Teacher where Depart ='计算机系' and Prof  not in( select Prof from Teacher where Depart ='电子工程系')<br>union <br>select Tname,Prof from Teacher where Depart ='电子工程系' and Prof  not in( select Prof from Teacher where Depart ='计算机系')\n",
    "```"
   ]
  },
  {
   "cell_type": "markdown",
   "metadata": {},
   "source": [
    "Q29、查询选修编号为“3-105“课程且成绩至少高于选修编号为“3-245”的同学的Cno、Sno和Degree,并按Degree从高到低次序排序\n",
    "\n",
    "any:代表括号中任意一个成绩就可以"
   ]
  },
  {
   "cell_type": "markdown",
   "metadata": {},
   "source": [
    "```mysql\n",
    "select Cno,Sno,Degree from score where cno='3-105' and degree >any(select degree from score where cno='3-245' ) order by degree desc\n",
    "```"
   ]
  },
  {
   "cell_type": "markdown",
   "metadata": {},
   "source": [
    "Q30、查询选修编号为“3-105”且成绩高于选修编号为“3-245”课程的同学的Cno、Sno和Degree\n",
    "\n",
    "all:代表括号中的所有成绩"
   ]
  },
  {
   "cell_type": "markdown",
   "metadata": {},
   "source": [
    "```mysql\n",
    "select Cno,Sno,Degree from score where cno='3-105' and degree >all(select degree from score where cno='3-245' ) order by degree desc\n",
    "```"
   ]
  },
  {
   "cell_type": "markdown",
   "metadata": {},
   "source": [
    "Q31、查询所有教师和同学的name、sex和birthday"
   ]
  },
  {
   "cell_type": "markdown",
   "metadata": {},
   "source": [
    "```mysql\n",
    "select tname,tsex,tbirthday from Teacher union select sname,ssex,sbirthday from Student\n",
    "```"
   ]
  },
  {
   "cell_type": "markdown",
   "metadata": {},
   "source": [
    "Q32、查询所有“女”教师和“女”同学的name、sex和birthday"
   ]
  },
  {
   "cell_type": "markdown",
   "metadata": {},
   "source": [
    "```mysql\n",
    "select Tname,Tsex,Tbirthday from Teacher where Tsex='女' union select Sname,Ssex,Sbirthday from Student where Ssex='女'\n",
    "```"
   ]
  },
  {
   "cell_type": "markdown",
   "metadata": {},
   "source": [
    "Q33、查询成绩比该课程平均成绩低的同学的成绩表"
   ]
  },
  {
   "cell_type": "markdown",
   "metadata": {},
   "source": [
    "```mysql\n",
    "select * from score a  where degree < (select avg(degree) from score b where b.cno=a.cno)\n",
    "```"
   ]
  },
  {
   "cell_type": "markdown",
   "metadata": {},
   "source": [
    "Q34、查询所有任课教师的Tname和Depart"
   ]
  },
  {
   "cell_type": "markdown",
   "metadata": {},
   "source": [
    "```mysql\n",
    "select Tname,Depart from Teacher where tno in (select tno from course )\n",
    "```"
   ]
  },
  {
   "cell_type": "markdown",
   "metadata": {},
   "source": [
    "Q35、查询所有未讲课的教师的Tname和Depart"
   ]
  },
  {
   "cell_type": "markdown",
   "metadata": {},
   "source": [
    "```mysql\n",
    "select Tname,Depart from Teacher where Tno not in (select Tno from Course where cno in (select cno from score  ))\n",
    "```"
   ]
  },
  {
   "cell_type": "markdown",
   "metadata": {},
   "source": [
    "Q36、查询至少有2名男生的班号"
   ]
  },
  {
   "cell_type": "markdown",
   "metadata": {},
   "source": [
    "```mysql\n",
    "select class from student where ssex='男' group by class having count(*)>1\n",
    "```"
   ]
  },
  {
   "cell_type": "markdown",
   "metadata": {},
   "source": [
    "Q37、查询Student表中不姓“王”的同学记录"
   ]
  },
  {
   "cell_type": "markdown",
   "metadata": {},
   "source": [
    "```mysql\n",
    "select * from Student where Sname not  like '王%%'\n",
    "```"
   ]
  },
  {
   "cell_type": "markdown",
   "metadata": {},
   "source": [
    "Q38、查询Student表中每个学生的姓名和年龄"
   ]
  },
  {
   "cell_type": "markdown",
   "metadata": {},
   "source": [
    "```mysql\n",
    "select Sname, year(now())-year(sbirthday)  from Student\n",
    "```"
   ]
  },
  {
   "cell_type": "markdown",
   "metadata": {},
   "source": [
    "Q39、查询Student表中最大和最小的Sbirthday日期值"
   ]
  },
  {
   "cell_type": "markdown",
   "metadata": {},
   "source": [
    "```mysql\n",
    "select Max(Sbirthday ),Min(Sbirthday ) from Student\n",
    "```"
   ]
  },
  {
   "cell_type": "markdown",
   "metadata": {},
   "source": [
    "Q40、以班号和年龄从大到小的顺序查询Student表中的全部记录"
   ]
  },
  {
   "cell_type": "markdown",
   "metadata": {},
   "source": [
    "```mysql\n",
    "select * from Student  order by  class desc, Sbirthday\n",
    "```"
   ]
  },
  {
   "cell_type": "markdown",
   "metadata": {},
   "source": [
    "Q41、查询“男”教师及其所上的课程"
   ]
  },
  {
   "cell_type": "markdown",
   "metadata": {},
   "source": [
    "```mysql\n",
    "select Tname,Cname from course,teacher where course.tno= teacher.tno and teacher.Tsex='男'\n",
    "```"
   ]
  },
  {
   "cell_type": "markdown",
   "metadata": {},
   "source": [
    "Q42、查询最高分同学的Sno、Cno和Degree列"
   ]
  },
  {
   "cell_type": "markdown",
   "metadata": {},
   "source": [
    "```mysql\n",
    "select Sno,Cno,Degree from score where degree=(select max(degree) from score)\n",
    "\n",
    "#排序写法：\n",
    "\n",
    "select Sno,Cno,Degree from score order by degree desc limit 0,1\n",
    "```"
   ]
  },
  {
   "cell_type": "markdown",
   "metadata": {},
   "source": [
    "Q43、查询和“李军”同性别的所有同学的Sname"
   ]
  },
  {
   "cell_type": "markdown",
   "metadata": {},
   "source": [
    "```mysql\n",
    "select Sname from Student where Ssex = (select Ssex from Student where Sname='李军')\n",
    "```"
   ]
  },
  {
   "cell_type": "markdown",
   "metadata": {},
   "source": [
    "Q44、查询和“李军”同性别并同班的同学Sname"
   ]
  },
  {
   "cell_type": "markdown",
   "metadata": {},
   "source": [
    "```mysql\n",
    "select Sname from Student where Ssex = (select Ssex from Student where Sname='李军' ) and class=( select class from student where Sname='李军')\n",
    "```"
   ]
  },
  {
   "cell_type": "markdown",
   "metadata": {},
   "source": [
    "Q45、查询所有选修“计算机导论”课程的“男”同学的成绩表"
   ]
  },
  {
   "cell_type": "markdown",
   "metadata": {},
   "source": [
    "```mysql\n",
    "select  Sno,Cno,degree from score where Cno=( select Cno from course where Cname='计算机导论') and Sno in (select Sno from student where Ssex='男')\n",
    "\n",
    "```"
   ]
  },
  {
   "cell_type": "markdown",
   "metadata": {},
   "source": [
    "## DDL\n",
    "### 24 建表过程"
   ]
  },
  {
   "cell_type": "markdown",
   "metadata": {},
   "source": [
    "```mysql\n",
    "\n",
    "```"
   ]
  },
  {
   "cell_type": "markdown",
   "metadata": {},
   "source": [
    "### 25 整型列"
   ]
  },
  {
   "cell_type": "markdown",
   "metadata": {},
   "source": [
    "```mysql\n",
    "\n",
    "```"
   ]
  },
  {
   "cell_type": "markdown",
   "metadata": {},
   "source": [
    "### 26 整型列的属性"
   ]
  },
  {
   "cell_type": "markdown",
   "metadata": {},
   "source": [
    "```mysql\n",
    "\n",
    "```"
   ]
  },
  {
   "cell_type": "markdown",
   "metadata": {},
   "source": [
    "### 27 浮点列与定点列"
   ]
  },
  {
   "cell_type": "markdown",
   "metadata": {},
   "source": [
    "```mysql\n",
    "\n",
    "```"
   ]
  },
  {
   "cell_type": "markdown",
   "metadata": {},
   "source": [
    "### 28 字符型列"
   ]
  },
  {
   "cell_type": "markdown",
   "metadata": {},
   "source": [
    "```mysql\n",
    "\n",
    "```"
   ]
  },
  {
   "cell_type": "markdown",
   "metadata": {},
   "source": [
    "### 29 日期时间型列"
   ]
  },
  {
   "cell_type": "markdown",
   "metadata": {},
   "source": [
    "```mysql\n",
    "\n",
    "```"
   ]
  },
  {
   "cell_type": "markdown",
   "metadata": {},
   "source": [
    "### 30 列的默认值"
   ]
  },
  {
   "cell_type": "markdown",
   "metadata": {},
   "source": [
    "```mysql\n",
    "\n",
    "```"
   ]
  },
  {
   "cell_type": "markdown",
   "metadata": {},
   "source": [
    "### 31 主键与自增"
   ]
  },
  {
   "cell_type": "markdown",
   "metadata": {},
   "source": [
    "```mysql\n",
    "\n",
    "```"
   ]
  },
  {
   "cell_type": "markdown",
   "metadata": {},
   "source": [
    "### 32 综合建表案例"
   ]
  },
  {
   "cell_type": "markdown",
   "metadata": {},
   "source": [
    "```mysql\n",
    "\n",
    "```"
   ]
  },
  {
   "cell_type": "markdown",
   "metadata": {},
   "source": [
    "### 33 列的增删改"
   ]
  },
  {
   "cell_type": "markdown",
   "metadata": {},
   "source": [
    "```mysql\n",
    "\n",
    "```"
   ]
  },
  {
   "cell_type": "markdown",
   "metadata": {},
   "source": [
    "### 34 视图VIEW\n",
    "视图是表的一种映射，以sql语句的形式保持在数据库中\n",
    "只有在视图和表数据一一对应时，视图的修改才对应表的修改。否则无效。\n",
    "如使用聚合函数如求平均值后的视图"
   ]
  },
  {
   "cell_type": "markdown",
   "metadata": {},
   "source": [
    "```mysql\n",
    "\n",
    "```"
   ]
  },
  {
   "cell_type": "markdown",
   "metadata": {},
   "source": [
    "### 35 视图ALGROITHM\n",
    "视图算法有两种，\n",
    "一种temptable\n",
    "一种"
   ]
  },
  {
   "cell_type": "markdown",
   "metadata": {},
   "source": [
    "```mysql\n",
    "\n",
    "\n",
    "```"
   ]
  },
  {
   "cell_type": "markdown",
   "metadata": {},
   "source": [
    "### 36 常用表管理"
   ]
  },
  {
   "cell_type": "markdown",
   "metadata": {},
   "source": [
    "```mysql\n",
    "\n",
    "```"
   ]
  },
  {
   "cell_type": "markdown",
   "metadata": {},
   "source": [
    "### 37 存储引擎的概念"
   ]
  },
  {
   "cell_type": "markdown",
   "metadata": {},
   "source": [
    "```mysql\n",
    "\n",
    "```"
   ]
  },
  {
   "cell_type": "markdown",
   "metadata": {},
   "source": [
    "### 38 字符集与乱码\n",
    "在系统和数据库之间有一个转换器,把接收到的数据字符集转换为数据库存储的字符集，只要设置字符集是告知转换器正确的操作字符集即可。\n",
    "如告知错误，则转换器按错误字符集转换后保存的也是错误的，因而出现乱码。\n",
    "\n",
    "具体设置方法：\n",
    "查看默认字符编码命令\n",
    "```mysql\n",
    "show variables like 'character%'; \n",
    "```\n",
    "修改mysql安装路径下的my.ini文件，更改默认字符集，在文件中增加如下内容：\n",
    "```mysql\n",
    "[mysql]\n",
    "default-character-set=utf8\n",
    "[mysql.server]\n",
    "default-character-set=utf8\n",
    "[mysql_safe]\n",
    "default-character-set=utf8\n",
    "[client]\n",
    "default-character-set=gbk\n",
    "```\n",
    "如果文件中已经存在，则修改，如果不存在，则添加。否则报错。\n",
    "修改的目的是把 服务器端统一设置为utf8，客户端（CMD或GUI）设置为gbk.\n"
   ]
  },
  {
   "cell_type": "markdown",
   "metadata": {},
   "source": [
    "```mysql\n",
    "\n",
    "```"
   ]
  },
  {
   "cell_type": "markdown",
   "metadata": {},
   "source": [
    "### 39 索引概念\n",
    "索引相当于书的目录，主键是索引的一种。\n",
    "还有两种索引，unique 索引和？"
   ]
  },
  {
   "cell_type": "markdown",
   "metadata": {},
   "source": [
    "```mysql\n",
    "\n",
    "```"
   ]
  },
  {
   "cell_type": "markdown",
   "metadata": {},
   "source": [
    "### 40 索引操作语法"
   ]
  },
  {
   "cell_type": "markdown",
   "metadata": {},
   "source": [
    "```mysql\n",
    "\n",
    "```"
   ]
  },
  {
   "cell_type": "markdown",
   "metadata": {},
   "source": [
    "### 41 常用函数\n",
    "floor"
   ]
  },
  {
   "cell_type": "markdown",
   "metadata": {},
   "source": [
    "```mysql\n",
    "\n",
    "```"
   ]
  },
  {
   "cell_type": "markdown",
   "metadata": {},
   "source": [
    "### 42 常用函数"
   ]
  },
  {
   "cell_type": "markdown",
   "metadata": {},
   "source": [
    "```mysql\n",
    "\n",
    "```"
   ]
  },
  {
   "cell_type": "markdown",
   "metadata": {},
   "source": [
    "### 43 事务概念\n",
    "事务特性：\n",
    "原子性，一致性，持久性\n",
    "\n",
    "原子性：操作要成功都成功，要失败都失败，如银行转账。\n",
    "一致性：\n",
    "持久性：一旦提交，操作信息将永久存在，不能删除。如ATM机取钱时，扣款后不吐钱，银行只能在数据库中更新扣掉的钱（重新加会原来的数），不能删除扣钱记录。"
   ]
  },
  {
   "cell_type": "markdown",
   "metadata": {},
   "source": [
    "```mysql\n",
    "\n",
    "```"
   ]
  },
  {
   "cell_type": "markdown",
   "metadata": {},
   "source": [
    "## 高级\n",
    "### 触发器"
   ]
  },
  {
   "cell_type": "markdown",
   "metadata": {},
   "source": [
    "```mysql\n",
    "\n",
    "```"
   ]
  },
  {
   "cell_type": "markdown",
   "metadata": {},
   "source": [
    "### 触发器变量"
   ]
  },
  {
   "cell_type": "markdown",
   "metadata": {},
   "source": [
    "```mysql\n",
    "\n",
    "```"
   ]
  },
  {
   "cell_type": "markdown",
   "metadata": {},
   "source": [
    "### 行变量"
   ]
  },
  {
   "cell_type": "markdown",
   "metadata": {},
   "source": [
    "```mysql\n",
    "\n",
    "```"
   ]
  },
  {
   "cell_type": "markdown",
   "metadata": {},
   "source": [
    "### 触发器做简单编程"
   ]
  },
  {
   "cell_type": "markdown",
   "metadata": {},
   "source": [
    "```mysql\n",
    "\n",
    "```"
   ]
  },
  {
   "cell_type": "markdown",
   "metadata": {},
   "source": [
    "### for each row 的作用"
   ]
  },
  {
   "cell_type": "markdown",
   "metadata": {},
   "source": [
    "```mysql\n",
    "\n",
    "```"
   ]
  },
  {
   "cell_type": "markdown",
   "metadata": {},
   "source": [
    "### 存储过程概念"
   ]
  },
  {
   "cell_type": "markdown",
   "metadata": {},
   "source": [
    "```mysql\n",
    "\n",
    "```"
   ]
  },
  {
   "cell_type": "markdown",
   "metadata": {},
   "source": [
    "### 引入变量与控制结构"
   ]
  },
  {
   "cell_type": "markdown",
   "metadata": {},
   "source": [
    "```mysql\n",
    "\n",
    "```"
   ]
  },
  {
   "cell_type": "markdown",
   "metadata": {},
   "source": [
    "### 存储过程的参数传递"
   ]
  },
  {
   "cell_type": "markdown",
   "metadata": {},
   "source": [
    "```mysql\n",
    "\n",
    "```"
   ]
  },
  {
   "cell_type": "markdown",
   "metadata": {},
   "source": [
    "### 过程中使用循环结构"
   ]
  },
  {
   "cell_type": "markdown",
   "metadata": {},
   "source": [
    "```mysql\n",
    "\n",
    "```"
   ]
  },
  {
   "cell_type": "markdown",
   "metadata": {},
   "source": [
    "### 何为输出型参数"
   ]
  },
  {
   "cell_type": "markdown",
   "metadata": {},
   "source": [
    "```mysql\n",
    "\n",
    "```"
   ]
  },
  {
   "cell_type": "markdown",
   "metadata": {},
   "source": [
    "### CASE结构的用法"
   ]
  },
  {
   "cell_type": "markdown",
   "metadata": {},
   "source": [
    "```mysql\n",
    "\n",
    "```"
   ]
  },
  {
   "cell_type": "markdown",
   "metadata": {},
   "source": [
    "### REPEAT 循环结构"
   ]
  },
  {
   "cell_type": "markdown",
   "metadata": {},
   "source": [
    "```mysql\n",
    "\n",
    "```"
   ]
  },
  {
   "cell_type": "markdown",
   "metadata": {},
   "source": [
    "### 游标的概念"
   ]
  },
  {
   "cell_type": "markdown",
   "metadata": {},
   "source": [
    "```mysql\n",
    "\n",
    "```"
   ]
  },
  {
   "cell_type": "markdown",
   "metadata": {},
   "source": [
    "### 游标循环"
   ]
  },
  {
   "cell_type": "markdown",
   "metadata": {},
   "source": [
    "```mysql\n",
    "\n",
    "```"
   ]
  },
  {
   "cell_type": "markdown",
   "metadata": {},
   "source": [
    "### DECLARE处理条件"
   ]
  },
  {
   "cell_type": "markdown",
   "metadata": {},
   "source": [
    "```mysql\n",
    "\n",
    "```"
   ]
  },
  {
   "cell_type": "markdown",
   "metadata": {},
   "source": [
    "### 对比CONTINUE与EXIT的区别"
   ]
  },
  {
   "cell_type": "markdown",
   "metadata": {},
   "source": [
    "```mysql\n",
    "\n",
    "```"
   ]
  },
  {
   "cell_type": "markdown",
   "metadata": {},
   "source": [
    "### 游标循环读取的正确逻辑"
   ]
  },
  {
   "cell_type": "markdown",
   "metadata": {},
   "source": [
    "```mysql\n",
    "\n",
    "```"
   ]
  },
  {
   "cell_type": "markdown",
   "metadata": {},
   "source": [
    "### MySQL权限检查原理"
   ]
  },
  {
   "cell_type": "markdown",
   "metadata": {},
   "source": [
    "```mysql\n",
    "\n",
    "```"
   ]
  },
  {
   "cell_type": "markdown",
   "metadata": {},
   "source": [
    "### 全局授权与收回"
   ]
  },
  {
   "cell_type": "markdown",
   "metadata": {},
   "source": [
    "```mysql\n",
    "\n",
    "```"
   ]
  },
  {
   "cell_type": "markdown",
   "metadata": {},
   "source": [
    "### 库及表级别授权与收回"
   ]
  },
  {
   "cell_type": "markdown",
   "metadata": {},
   "source": [
    "```mysql\n",
    "\n",
    "```"
   ]
  },
  {
   "cell_type": "markdown",
   "metadata": {},
   "source": [
    "### 主从配置过程"
   ]
  },
  {
   "cell_type": "markdown",
   "metadata": {},
   "source": [
    "```mysql\n",
    "\n",
    "```"
   ]
  },
  {
   "cell_type": "markdown",
   "metadata": {},
   "source": [
    "### 启动主从"
   ]
  },
  {
   "cell_type": "markdown",
   "metadata": {},
   "source": []
  },
  {
   "cell_type": "markdown",
   "metadata": {},
   "source": [
    "```mysql\n",
    "\n",
    "```"
   ]
  },
  {
   "cell_type": "markdown",
   "metadata": {},
   "source": [
    "```mysql\n",
    "\n",
    "```"
   ]
  },
  {
   "cell_type": "markdown",
   "metadata": {},
   "source": [
    "```mysql\n",
    "\n",
    "```"
   ]
  },
  {
   "cell_type": "markdown",
   "metadata": {},
   "source": [
    "```mysql\n",
    "\n",
    "```"
   ]
  },
  {
   "cell_type": "markdown",
   "metadata": {},
   "source": [
    "```mysql\n",
    "\n",
    "```"
   ]
  },
  {
   "cell_type": "markdown",
   "metadata": {},
   "source": [
    "```mysql\n",
    "\n",
    "```"
   ]
  },
  {
   "cell_type": "markdown",
   "metadata": {},
   "source": [
    "```mysql\n",
    "\n",
    "```"
   ]
  },
  {
   "cell_type": "markdown",
   "metadata": {},
   "source": [
    "```\n",
    "```"
   ]
  },
  {
   "cell_type": "markdown",
   "metadata": {},
   "source": [
    "```\n",
    "```"
   ]
  }
 ],
 "metadata": {
  "kernelspec": {
   "display_name": "Python 3",
   "language": "python",
   "name": "python3"
  },
  "language_info": {
   "codemirror_mode": {
    "name": "ipython",
    "version": 3
   },
   "file_extension": ".py",
   "mimetype": "text/x-python",
   "name": "python",
   "nbconvert_exporter": "python",
   "pygments_lexer": "ipython3",
   "version": "3.6.1"
  }
 },
 "nbformat": 4,
 "nbformat_minor": 2
}
